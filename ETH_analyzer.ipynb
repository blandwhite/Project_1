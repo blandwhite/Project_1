{
 "cells": [
  {
   "cell_type": "markdown",
   "id": "f649e4e5-cb17-49fe-8b60-7ca85d2db48f",
   "metadata": {},
   "source": [
    "# Project 1"
   ]
  },
  {
   "cell_type": "markdown",
   "id": "ed56797e-1678-4df9-b336-eb22b2a73d5f",
   "metadata": {},
   "source": [
    "##  Import the required libraries and dependencies."
   ]
  },
  {
   "cell_type": "code",
   "execution_count": 1,
   "id": "582b0541-c970-4ab8-8a59-8ffaa7c24f08",
   "metadata": {},
   "outputs": [],
   "source": [
    "import pandas as pd\n",
    "from pathlib import Path\n",
    "%matplotlib inline\n",
    "import playsound as ps\n",
    "import os"
   ]
  },
  {
   "cell_type": "markdown",
   "id": "311e6170-91a4-474c-aa63-ec8926c80d3d",
   "metadata": {},
   "source": [
    "## Collect the Data."
   ]
  },
  {
   "cell_type": "code",
   "execution_count": 2,
   "id": "39611f61-4de5-44d8-87e1-0b382f78835f",
   "metadata": {},
   "outputs": [],
   "source": [
    "csvpath = Path(\"Resources/bitcoin.csv\")\n",
    "bitcoin = pd.read_csv((csvpath),\n",
    "    index_col = \"date\",\n",
    "    parse_dates=True,\n",
    "    infer_datetime_format=True)\n",
    "bitcoin.drop(['unix', 'Volume USD'], axis=1, inplace=True)\n",
    "bitcoin = bitcoin.set_axis(['Symbol','Open', 'High', 'Low', 'Close', 'Volume'], axis=1)\n",
    "bitcoin.index.names = ['Date']"
   ]
  },
  {
   "cell_type": "code",
   "execution_count": 3,
   "id": "eafe172a-4b50-4038-a9fa-34c0ba4b65be",
   "metadata": {},
   "outputs": [
    {
     "data": {
      "text/html": [
       "<div>\n",
       "<style scoped>\n",
       "    .dataframe tbody tr th:only-of-type {\n",
       "        vertical-align: middle;\n",
       "    }\n",
       "\n",
       "    .dataframe tbody tr th {\n",
       "        vertical-align: top;\n",
       "    }\n",
       "\n",
       "    .dataframe thead th {\n",
       "        text-align: right;\n",
       "    }\n",
       "</style>\n",
       "<table border=\"1\" class=\"dataframe\">\n",
       "  <thead>\n",
       "    <tr style=\"text-align: right;\">\n",
       "      <th></th>\n",
       "      <th>Symbol</th>\n",
       "      <th>Open</th>\n",
       "      <th>High</th>\n",
       "      <th>Low</th>\n",
       "      <th>Close</th>\n",
       "      <th>Volume</th>\n",
       "    </tr>\n",
       "    <tr>\n",
       "      <th>Date</th>\n",
       "      <th></th>\n",
       "      <th></th>\n",
       "      <th></th>\n",
       "      <th></th>\n",
       "      <th></th>\n",
       "      <th></th>\n",
       "    </tr>\n",
       "  </thead>\n",
       "  <tbody>\n",
       "    <tr>\n",
       "      <th>2022-01-18</th>\n",
       "      <td>BTC/USD</td>\n",
       "      <td>42230.09</td>\n",
       "      <td>42358.39</td>\n",
       "      <td>42158.97</td>\n",
       "      <td>42336.30</td>\n",
       "      <td>7.875563</td>\n",
       "    </tr>\n",
       "    <tr>\n",
       "      <th>2022-01-17</th>\n",
       "      <td>BTC/USD</td>\n",
       "      <td>43099.08</td>\n",
       "      <td>43209.47</td>\n",
       "      <td>41581.00</td>\n",
       "      <td>42255.07</td>\n",
       "      <td>1060.009388</td>\n",
       "    </tr>\n",
       "    <tr>\n",
       "      <th>2022-01-16</th>\n",
       "      <td>BTC/USD</td>\n",
       "      <td>43084.77</td>\n",
       "      <td>43495.59</td>\n",
       "      <td>42615.00</td>\n",
       "      <td>43107.70</td>\n",
       "      <td>621.953027</td>\n",
       "    </tr>\n",
       "    <tr>\n",
       "      <th>2022-01-15</th>\n",
       "      <td>BTC/USD</td>\n",
       "      <td>43085.76</td>\n",
       "      <td>43826.80</td>\n",
       "      <td>42387.86</td>\n",
       "      <td>43102.01</td>\n",
       "      <td>707.658523</td>\n",
       "    </tr>\n",
       "    <tr>\n",
       "      <th>2022-01-14</th>\n",
       "      <td>BTC/USD</td>\n",
       "      <td>42579.44</td>\n",
       "      <td>43468.95</td>\n",
       "      <td>41782.21</td>\n",
       "      <td>43102.35</td>\n",
       "      <td>1386.832758</td>\n",
       "    </tr>\n",
       "  </tbody>\n",
       "</table>\n",
       "</div>"
      ],
      "text/plain": [
       "             Symbol      Open      High       Low     Close       Volume\n",
       "Date                                                                    \n",
       "2022-01-18  BTC/USD  42230.09  42358.39  42158.97  42336.30     7.875563\n",
       "2022-01-17  BTC/USD  43099.08  43209.47  41581.00  42255.07  1060.009388\n",
       "2022-01-16  BTC/USD  43084.77  43495.59  42615.00  43107.70   621.953027\n",
       "2022-01-15  BTC/USD  43085.76  43826.80  42387.86  43102.01   707.658523\n",
       "2022-01-14  BTC/USD  42579.44  43468.95  41782.21  43102.35  1386.832758"
      ]
     },
     "execution_count": 3,
     "metadata": {},
     "output_type": "execute_result"
    }
   ],
   "source": [
    "bitcoin.head()"
   ]
  },
  {
   "cell_type": "code",
   "execution_count": 4,
   "id": "edf793ff-1d48-4550-b282-b0b5fd888abf",
   "metadata": {},
   "outputs": [],
   "source": [
    "csvpath_2 = Path(\"Resources/ethereum.csv\")\n",
    "ethereum = pd.read_csv((csvpath_2),\n",
    "    index_col = \"date\",\n",
    "    parse_dates=True,\n",
    "    infer_datetime_format=True)\n",
    "ethereum.drop(['unix', 'Volume USD'], axis=1, inplace=True)\n",
    "ethereum = bitcoin.set_axis(['Symbol','Open', 'High', 'Low', 'Close', 'Volume'], axis=1)\n",
    "ethereum.index.names = ['Date']"
   ]
  },
  {
   "cell_type": "code",
   "execution_count": 5,
   "id": "2108c004-2405-4659-8391-839f73e277f2",
   "metadata": {},
   "outputs": [
    {
     "data": {
      "text/html": [
       "<div>\n",
       "<style scoped>\n",
       "    .dataframe tbody tr th:only-of-type {\n",
       "        vertical-align: middle;\n",
       "    }\n",
       "\n",
       "    .dataframe tbody tr th {\n",
       "        vertical-align: top;\n",
       "    }\n",
       "\n",
       "    .dataframe thead th {\n",
       "        text-align: right;\n",
       "    }\n",
       "</style>\n",
       "<table border=\"1\" class=\"dataframe\">\n",
       "  <thead>\n",
       "    <tr style=\"text-align: right;\">\n",
       "      <th></th>\n",
       "      <th>Symbol</th>\n",
       "      <th>Open</th>\n",
       "      <th>High</th>\n",
       "      <th>Low</th>\n",
       "      <th>Close</th>\n",
       "      <th>Volume</th>\n",
       "    </tr>\n",
       "    <tr>\n",
       "      <th>Date</th>\n",
       "      <th></th>\n",
       "      <th></th>\n",
       "      <th></th>\n",
       "      <th></th>\n",
       "      <th></th>\n",
       "      <th></th>\n",
       "    </tr>\n",
       "  </thead>\n",
       "  <tbody>\n",
       "    <tr>\n",
       "      <th>2022-01-18</th>\n",
       "      <td>BTC/USD</td>\n",
       "      <td>42230.09</td>\n",
       "      <td>42358.39</td>\n",
       "      <td>42158.97</td>\n",
       "      <td>42336.30</td>\n",
       "      <td>7.875563</td>\n",
       "    </tr>\n",
       "    <tr>\n",
       "      <th>2022-01-17</th>\n",
       "      <td>BTC/USD</td>\n",
       "      <td>43099.08</td>\n",
       "      <td>43209.47</td>\n",
       "      <td>41581.00</td>\n",
       "      <td>42255.07</td>\n",
       "      <td>1060.009388</td>\n",
       "    </tr>\n",
       "    <tr>\n",
       "      <th>2022-01-16</th>\n",
       "      <td>BTC/USD</td>\n",
       "      <td>43084.77</td>\n",
       "      <td>43495.59</td>\n",
       "      <td>42615.00</td>\n",
       "      <td>43107.70</td>\n",
       "      <td>621.953027</td>\n",
       "    </tr>\n",
       "    <tr>\n",
       "      <th>2022-01-15</th>\n",
       "      <td>BTC/USD</td>\n",
       "      <td>43085.76</td>\n",
       "      <td>43826.80</td>\n",
       "      <td>42387.86</td>\n",
       "      <td>43102.01</td>\n",
       "      <td>707.658523</td>\n",
       "    </tr>\n",
       "    <tr>\n",
       "      <th>2022-01-14</th>\n",
       "      <td>BTC/USD</td>\n",
       "      <td>42579.44</td>\n",
       "      <td>43468.95</td>\n",
       "      <td>41782.21</td>\n",
       "      <td>43102.35</td>\n",
       "      <td>1386.832758</td>\n",
       "    </tr>\n",
       "  </tbody>\n",
       "</table>\n",
       "</div>"
      ],
      "text/plain": [
       "             Symbol      Open      High       Low     Close       Volume\n",
       "Date                                                                    \n",
       "2022-01-18  BTC/USD  42230.09  42358.39  42158.97  42336.30     7.875563\n",
       "2022-01-17  BTC/USD  43099.08  43209.47  41581.00  42255.07  1060.009388\n",
       "2022-01-16  BTC/USD  43084.77  43495.59  42615.00  43107.70   621.953027\n",
       "2022-01-15  BTC/USD  43085.76  43826.80  42387.86  43102.01   707.658523\n",
       "2022-01-14  BTC/USD  42579.44  43468.95  41782.21  43102.35  1386.832758"
      ]
     },
     "execution_count": 5,
     "metadata": {},
     "output_type": "execute_result"
    }
   ],
   "source": [
    "ethereum.head()"
   ]
  },
  {
   "cell_type": "markdown",
   "id": "ef536d6d-3b46-4258-969d-47fbab798c85",
   "metadata": {},
   "source": [
    "## Prepare the Data."
   ]
  },
  {
   "cell_type": "code",
   "execution_count": 9,
   "id": "136b83d0-f791-491a-9739-0ef77b4043f7",
   "metadata": {},
   "outputs": [],
   "source": [
    "bitcoin = bitcoin.dropna()\n",
    "bitcoin = bitcoin.drop_duplicates()"
   ]
  },
  {
   "cell_type": "code",
   "execution_count": 10,
   "id": "6e2a1329-1a75-4aa7-9041-294d1d9038d9",
   "metadata": {},
   "outputs": [],
   "source": [
    "ethereum = ethereum.dropna()\n",
    "ethereum = ethereum.drop_duplicates()"
   ]
  },
  {
   "cell_type": "markdown",
   "id": "ac7a5143-be1c-438c-b9d8-fca02260c424",
   "metadata": {},
   "source": [
    "## Analyze the Data."
   ]
  },
  {
   "cell_type": "code",
   "execution_count": null,
   "id": "295e74db-2c41-49d0-bdda-0ff67120f3a1",
   "metadata": {},
   "outputs": [],
   "source": []
  }
 ],
 "metadata": {
  "kernelspec": {
   "display_name": "Python 3 (ipykernel)",
   "language": "python",
   "name": "python3"
  },
  "language_info": {
   "codemirror_mode": {
    "name": "ipython",
    "version": 3
   },
   "file_extension": ".py",
   "mimetype": "text/x-python",
   "name": "python",
   "nbconvert_exporter": "python",
   "pygments_lexer": "ipython3",
   "version": "3.7.11"
  }
 },
 "nbformat": 4,
 "nbformat_minor": 5
}
