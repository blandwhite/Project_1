{
 "cells": [
  {
   "cell_type": "markdown",
   "id": "f649e4e5-cb17-49fe-8b60-7ca85d2db48f",
   "metadata": {},
   "source": [
    "# Project 1"
   ]
  },
  {
   "cell_type": "markdown",
   "id": "ed56797e-1678-4df9-b336-eb22b2a73d5f",
   "metadata": {},
   "source": [
    "##  Import the required libraries and dependencies."
   ]
  },
  {
   "cell_type": "code",
   "execution_count": 1,
   "id": "582b0541-c970-4ab8-8a59-8ffaa7c24f08",
   "metadata": {},
   "outputs": [],
   "source": [
    "import pandas as pd\n",
    "from pathlib import Path\n",
    "%matplotlib inline\n",
    "import playsound as ps\n",
    "import os"
   ]
  },
  {
   "cell_type": "markdown",
   "id": "311e6170-91a4-474c-aa63-ec8926c80d3d",
   "metadata": {},
   "source": [
    "## Collect the Data."
   ]
  },
  {
   "cell_type": "code",
   "execution_count": 2,
   "id": "39611f61-4de5-44d8-87e1-0b382f78835f",
   "metadata": {},
   "outputs": [],
   "source": [
    "csvpath = Path(\"Resources/bitstamp.csv\")\n",
    "bitstamp = pd.read_csv((csvpath),\n",
    "    index_col = \"date\",\n",
    "    parse_dates=True,\n",
    "    infer_datetime_format=True)\n",
    "bitstamp.drop(['unix', 'Volume USD'], axis=1, inplace=True)\n",
    "bitstamp = bitstamp.set_axis(['Symbol','Open', 'High', 'Low', 'Close', 'Volume'], axis=1)\n",
    "bitstamp.index.names = ['Date']"
   ]
  },
  {
   "cell_type": "code",
   "execution_count": 3,
   "id": "eafe172a-4b50-4038-a9fa-34c0ba4b65be",
   "metadata": {},
   "outputs": [
    {
     "data": {
      "text/html": [
       "<div>\n",
       "<style scoped>\n",
       "    .dataframe tbody tr th:only-of-type {\n",
       "        vertical-align: middle;\n",
       "    }\n",
       "\n",
       "    .dataframe tbody tr th {\n",
       "        vertical-align: top;\n",
       "    }\n",
       "\n",
       "    .dataframe thead th {\n",
       "        text-align: right;\n",
       "    }\n",
       "</style>\n",
       "<table border=\"1\" class=\"dataframe\">\n",
       "  <thead>\n",
       "    <tr style=\"text-align: right;\">\n",
       "      <th></th>\n",
       "      <th>Symbol</th>\n",
       "      <th>Open</th>\n",
       "      <th>High</th>\n",
       "      <th>Low</th>\n",
       "      <th>Close</th>\n",
       "      <th>Volume</th>\n",
       "    </tr>\n",
       "    <tr>\n",
       "      <th>Date</th>\n",
       "      <th></th>\n",
       "      <th></th>\n",
       "      <th></th>\n",
       "      <th></th>\n",
       "      <th></th>\n",
       "      <th></th>\n",
       "    </tr>\n",
       "  </thead>\n",
       "  <tbody>\n",
       "    <tr>\n",
       "      <th>2022-01-17</th>\n",
       "      <td>ETH/USD</td>\n",
       "      <td>3350.15</td>\n",
       "      <td>3360.29</td>\n",
       "      <td>3332.71</td>\n",
       "      <td>3333.88</td>\n",
       "      <td>230.717260</td>\n",
       "    </tr>\n",
       "    <tr>\n",
       "      <th>2022-01-16</th>\n",
       "      <td>ETH/USD</td>\n",
       "      <td>3328.95</td>\n",
       "      <td>3393.66</td>\n",
       "      <td>3274.92</td>\n",
       "      <td>3350.15</td>\n",
       "      <td>8990.626218</td>\n",
       "    </tr>\n",
       "    <tr>\n",
       "      <th>2022-01-15</th>\n",
       "      <td>ETH/USD</td>\n",
       "      <td>3311.54</td>\n",
       "      <td>3374.83</td>\n",
       "      <td>3262.94</td>\n",
       "      <td>3329.71</td>\n",
       "      <td>7400.861902</td>\n",
       "    </tr>\n",
       "    <tr>\n",
       "      <th>2022-01-14</th>\n",
       "      <td>ETH/USD</td>\n",
       "      <td>3241.82</td>\n",
       "      <td>3344.31</td>\n",
       "      <td>3188.89</td>\n",
       "      <td>3308.82</td>\n",
       "      <td>13612.569116</td>\n",
       "    </tr>\n",
       "    <tr>\n",
       "      <th>2022-01-13</th>\n",
       "      <td>ETH/USD</td>\n",
       "      <td>3372.33</td>\n",
       "      <td>3412.76</td>\n",
       "      <td>3230.70</td>\n",
       "      <td>3241.82</td>\n",
       "      <td>21742.716835</td>\n",
       "    </tr>\n",
       "  </tbody>\n",
       "</table>\n",
       "</div>"
      ],
      "text/plain": [
       "             Symbol     Open     High      Low    Close        Volume\n",
       "Date                                                                 \n",
       "2022-01-17  ETH/USD  3350.15  3360.29  3332.71  3333.88    230.717260\n",
       "2022-01-16  ETH/USD  3328.95  3393.66  3274.92  3350.15   8990.626218\n",
       "2022-01-15  ETH/USD  3311.54  3374.83  3262.94  3329.71   7400.861902\n",
       "2022-01-14  ETH/USD  3241.82  3344.31  3188.89  3308.82  13612.569116\n",
       "2022-01-13  ETH/USD  3372.33  3412.76  3230.70  3241.82  21742.716835"
      ]
     },
     "execution_count": 3,
     "metadata": {},
     "output_type": "execute_result"
    }
   ],
   "source": [
    "bitstamp.head()"
   ]
  },
  {
   "cell_type": "code",
   "execution_count": 4,
   "id": "edf793ff-1d48-4550-b282-b0b5fd888abf",
   "metadata": {},
   "outputs": [],
   "source": [
    "csvpath_2 = Path(\"Resources/gemini.csv\")\n",
    "gemini = pd.read_csv(csvpath_2)\n",
    "gemini.drop('Unix Timestamp', axis=1, inplace=True)\n",
    "gemini['Date'] = pd.to_datetime(gemini['Date'])\n",
    "gemini['Date'] = gemini['Date'].dt.date\n",
    "gemini = gemini.set_index('Date')"
   ]
  },
  {
   "cell_type": "code",
   "execution_count": 5,
   "id": "2108c004-2405-4659-8391-839f73e277f2",
   "metadata": {},
   "outputs": [
    {
     "data": {
      "text/html": [
       "<div>\n",
       "<style scoped>\n",
       "    .dataframe tbody tr th:only-of-type {\n",
       "        vertical-align: middle;\n",
       "    }\n",
       "\n",
       "    .dataframe tbody tr th {\n",
       "        vertical-align: top;\n",
       "    }\n",
       "\n",
       "    .dataframe thead th {\n",
       "        text-align: right;\n",
       "    }\n",
       "</style>\n",
       "<table border=\"1\" class=\"dataframe\">\n",
       "  <thead>\n",
       "    <tr style=\"text-align: right;\">\n",
       "      <th></th>\n",
       "      <th>Symbol</th>\n",
       "      <th>Open</th>\n",
       "      <th>High</th>\n",
       "      <th>Low</th>\n",
       "      <th>Close</th>\n",
       "      <th>Volume</th>\n",
       "    </tr>\n",
       "    <tr>\n",
       "      <th>Date</th>\n",
       "      <th></th>\n",
       "      <th></th>\n",
       "      <th></th>\n",
       "      <th></th>\n",
       "      <th></th>\n",
       "      <th></th>\n",
       "    </tr>\n",
       "  </thead>\n",
       "  <tbody>\n",
       "    <tr>\n",
       "      <th>2022-01-16</th>\n",
       "      <td>ETHUSD</td>\n",
       "      <td>3318.00</td>\n",
       "      <td>3394.38</td>\n",
       "      <td>3275.92</td>\n",
       "      <td>3347.55</td>\n",
       "      <td>8791.691176</td>\n",
       "    </tr>\n",
       "    <tr>\n",
       "      <th>2022-01-15</th>\n",
       "      <td>ETHUSD</td>\n",
       "      <td>3310.39</td>\n",
       "      <td>3373.06</td>\n",
       "      <td>3265.02</td>\n",
       "      <td>3318.00</td>\n",
       "      <td>15073.893145</td>\n",
       "    </tr>\n",
       "    <tr>\n",
       "      <th>2022-01-14</th>\n",
       "      <td>ETHUSD</td>\n",
       "      <td>3270.05</td>\n",
       "      <td>3350.00</td>\n",
       "      <td>3189.99</td>\n",
       "      <td>3310.39</td>\n",
       "      <td>6524.496092</td>\n",
       "    </tr>\n",
       "    <tr>\n",
       "      <th>2022-01-13</th>\n",
       "      <td>ETHUSD</td>\n",
       "      <td>3339.38</td>\n",
       "      <td>3418.67</td>\n",
       "      <td>3225.01</td>\n",
       "      <td>3270.05</td>\n",
       "      <td>10273.333845</td>\n",
       "    </tr>\n",
       "    <tr>\n",
       "      <th>2022-01-12</th>\n",
       "      <td>ETHUSD</td>\n",
       "      <td>3236.75</td>\n",
       "      <td>3412.21</td>\n",
       "      <td>3236.75</td>\n",
       "      <td>3339.38</td>\n",
       "      <td>5960.180664</td>\n",
       "    </tr>\n",
       "  </tbody>\n",
       "</table>\n",
       "</div>"
      ],
      "text/plain": [
       "            Symbol     Open     High      Low    Close        Volume\n",
       "Date                                                                \n",
       "2022-01-16  ETHUSD  3318.00  3394.38  3275.92  3347.55   8791.691176\n",
       "2022-01-15  ETHUSD  3310.39  3373.06  3265.02  3318.00  15073.893145\n",
       "2022-01-14  ETHUSD  3270.05  3350.00  3189.99  3310.39   6524.496092\n",
       "2022-01-13  ETHUSD  3339.38  3418.67  3225.01  3270.05  10273.333845\n",
       "2022-01-12  ETHUSD  3236.75  3412.21  3236.75  3339.38   5960.180664"
      ]
     },
     "execution_count": 5,
     "metadata": {},
     "output_type": "execute_result"
    }
   ],
   "source": [
    "gemini.head()"
   ]
  },
  {
   "cell_type": "markdown",
   "id": "ef536d6d-3b46-4258-969d-47fbab798c85",
   "metadata": {},
   "source": [
    "## Prepare the Data."
   ]
  },
  {
   "cell_type": "code",
   "execution_count": 6,
   "id": "136b83d0-f791-491a-9739-0ef77b4043f7",
   "metadata": {},
   "outputs": [],
   "source": [
    "bitstamp = bitstamp.dropna()\n",
    "bitstamp = bitstamp.drop_duplicates()"
   ]
  },
  {
   "cell_type": "code",
   "execution_count": 7,
   "id": "6e2a1329-1a75-4aa7-9041-294d1d9038d9",
   "metadata": {},
   "outputs": [],
   "source": [
    "gemini = gemini.dropna()\n",
    "gemini = gemini.drop_duplicates()"
   ]
  },
  {
   "cell_type": "markdown",
   "id": "ac7a5143-be1c-438c-b9d8-fca02260c424",
   "metadata": {},
   "source": [
    "## Analyze the Data."
   ]
  },
  {
   "cell_type": "code",
   "execution_count": null,
   "id": "295e74db-2c41-49d0-bdda-0ff67120f3a1",
   "metadata": {},
   "outputs": [],
   "source": []
  }
 ],
 "metadata": {
  "kernelspec": {
   "display_name": "Python 3 (ipykernel)",
   "language": "python",
   "name": "python3"
  },
  "language_info": {
   "codemirror_mode": {
    "name": "ipython",
    "version": 3
   },
   "file_extension": ".py",
   "mimetype": "text/x-python",
   "name": "python",
   "nbconvert_exporter": "python",
   "pygments_lexer": "ipython3",
   "version": "3.7.11"
  }
 },
 "nbformat": 4,
 "nbformat_minor": 5
}
