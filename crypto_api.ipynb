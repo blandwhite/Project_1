{
 "cells": [
  {
   "cell_type": "markdown",
   "id": "3021d099-c461-4e4d-82a8-66583f4f3de9",
   "metadata": {},
   "source": [
    "## Run Monte Carlo one crypto at a time pulling 3 years of history from API"
   ]
  },
  {
   "cell_type": "code",
   "execution_count": 1,
   "id": "401a7039-6302-4e79-8879-2bd8845c97d6",
   "metadata": {},
   "outputs": [],
   "source": [
    "# Import the required libraries and dependencies\n",
    "import os\n",
    "import requests\n",
    "import json\n",
    "import pandas as pd\n",
    "from dotenv import load_dotenv\n",
    "import alpaca_trade_api as tradeapi\n",
    "from MCForecastTools import MCSimulation\n",
    "\n",
    "%matplotlib inline"
   ]
  },
  {
   "cell_type": "code",
   "execution_count": 3,
   "id": "a2d28937-5f35-4017-bed7-fc8ac0ac12e6",
   "metadata": {},
   "outputs": [
    {
     "data": {
      "text/plain": [
       "True"
      ]
     },
     "execution_count": 3,
     "metadata": {},
     "output_type": "execute_result"
    }
   ],
   "source": [
    "# Load the environment variables from the .env file\n",
    "#by calling the load_dotenv function\n",
    "load_dotenv()"
   ]
  },
  {
   "cell_type": "code",
   "execution_count": null,
   "id": "19b7e3fb-3e0b-41d0-9dcc-091561e6e362",
   "metadata": {},
   "outputs": [],
   "source": []
  },
  {
   "cell_type": "code",
   "execution_count": 36,
   "id": "446517e6-4a50-4aea-8569-d614ef8796bc",
   "metadata": {},
   "outputs": [],
   "source": [
    "# Set the variables for the Alpaca API and secret keys\n",
    "alpaca_api_key = os.getenv('ALPACA_API_KEY')\n",
    "alpaca_secret_key = os.getenv('ALPACA_SECRET_KEY')\n",
    "\n",
    "# Create the Alpaca tradeapi.REST object\n",
    "alpaca = tradeapi.REST(\n",
    "    alpaca_api_key,\n",
    "    alpaca_secret_key,\n",
    "    api_version='v2'\n",
    ")"
   ]
  },
  {
   "cell_type": "code",
   "execution_count": 9,
   "id": "c84c4c2f-5419-48ec-8b28-dbd74068ff9e",
   "metadata": {},
   "outputs": [],
   "source": [
    "import datetime"
   ]
  },
  {
   "cell_type": "code",
   "execution_count": 28,
   "id": "3bd86e6f-1471-4c34-aae3-ca28c0dee0d6",
   "metadata": {},
   "outputs": [
    {
     "data": {
      "text/plain": [
       "datetime.date(2019, 1, 23)"
      ]
     },
     "execution_count": 28,
     "metadata": {},
     "output_type": "execute_result"
    }
   ],
   "source": [
    "today = date.today()\n",
    "three_years_ago = date.today() - datetime.timedelta(days=3*365)\n",
    "three_years_ago"
   ]
  },
  {
   "cell_type": "code",
   "execution_count": 25,
   "id": "5728b067-e843-4121-98c9-0e66f583141e",
   "metadata": {},
   "outputs": [],
   "source": [
    "# Set the tickers for both the bond and stock portion of the portfolio\n",
    "tickers = ['AAPL']\n",
    "\n",
    "# Set timeframe to 1D \n",
    "timeframe = '1D'\n",
    "\n",
    "# Format current date as ISO format\n",
    "# Set both the start and end date at the date of your prior weekday \n",
    "# This will give you the closing price of the previous trading day\n",
    "# Alternatively you can use a start and end date of 2020-08-07\n",
    "start_date = pd.Timestamp(three_years_ago, tz='America/New_York').isoformat()\n",
    "end_date = pd.Timestamp(today, tz='America/New_York').isoformat()"
   ]
  },
  {
   "cell_type": "code",
   "execution_count": 26,
   "id": "8abe2140-e8a0-4e00-a75c-5f044b11a0d2",
   "metadata": {},
   "outputs": [
    {
     "data": {
      "text/html": [
       "<div>\n",
       "<style scoped>\n",
       "    .dataframe tbody tr th:only-of-type {\n",
       "        vertical-align: middle;\n",
       "    }\n",
       "\n",
       "    .dataframe tbody tr th {\n",
       "        vertical-align: top;\n",
       "    }\n",
       "\n",
       "    .dataframe thead tr th {\n",
       "        text-align: left;\n",
       "    }\n",
       "\n",
       "    .dataframe thead tr:last-of-type th {\n",
       "        text-align: right;\n",
       "    }\n",
       "</style>\n",
       "<table border=\"1\" class=\"dataframe\">\n",
       "  <thead>\n",
       "    <tr>\n",
       "      <th></th>\n",
       "      <th colspan=\"5\" halign=\"left\">AAPL</th>\n",
       "    </tr>\n",
       "    <tr>\n",
       "      <th></th>\n",
       "      <th>open</th>\n",
       "      <th>high</th>\n",
       "      <th>low</th>\n",
       "      <th>close</th>\n",
       "      <th>volume</th>\n",
       "    </tr>\n",
       "    <tr>\n",
       "      <th>time</th>\n",
       "      <th></th>\n",
       "      <th></th>\n",
       "      <th></th>\n",
       "      <th></th>\n",
       "      <th></th>\n",
       "    </tr>\n",
       "  </thead>\n",
       "  <tbody>\n",
       "    <tr>\n",
       "      <th>2021-08-31 00:00:00-04:00</th>\n",
       "      <td>152.680</td>\n",
       "      <td>152.80</td>\n",
       "      <td>151.290</td>\n",
       "      <td>151.83</td>\n",
       "      <td>65181250</td>\n",
       "    </tr>\n",
       "    <tr>\n",
       "      <th>2021-09-01 00:00:00-04:00</th>\n",
       "      <td>152.800</td>\n",
       "      <td>154.98</td>\n",
       "      <td>152.340</td>\n",
       "      <td>152.54</td>\n",
       "      <td>72982461</td>\n",
       "    </tr>\n",
       "    <tr>\n",
       "      <th>2021-09-02 00:00:00-04:00</th>\n",
       "      <td>153.850</td>\n",
       "      <td>154.72</td>\n",
       "      <td>152.400</td>\n",
       "      <td>153.71</td>\n",
       "      <td>64119121</td>\n",
       "    </tr>\n",
       "    <tr>\n",
       "      <th>2021-09-03 00:00:00-04:00</th>\n",
       "      <td>153.750</td>\n",
       "      <td>154.63</td>\n",
       "      <td>153.090</td>\n",
       "      <td>154.31</td>\n",
       "      <td>51476040</td>\n",
       "    </tr>\n",
       "    <tr>\n",
       "      <th>2021-09-07 00:00:00-04:00</th>\n",
       "      <td>155.000</td>\n",
       "      <td>157.26</td>\n",
       "      <td>154.390</td>\n",
       "      <td>156.70</td>\n",
       "      <td>74486147</td>\n",
       "    </tr>\n",
       "    <tr>\n",
       "      <th>...</th>\n",
       "      <td>...</td>\n",
       "      <td>...</td>\n",
       "      <td>...</td>\n",
       "      <td>...</td>\n",
       "      <td>...</td>\n",
       "    </tr>\n",
       "    <tr>\n",
       "      <th>2022-01-14 00:00:00-05:00</th>\n",
       "      <td>171.340</td>\n",
       "      <td>173.78</td>\n",
       "      <td>171.090</td>\n",
       "      <td>173.05</td>\n",
       "      <td>68538760</td>\n",
       "    </tr>\n",
       "    <tr>\n",
       "      <th>2022-01-18 00:00:00-05:00</th>\n",
       "      <td>171.500</td>\n",
       "      <td>172.54</td>\n",
       "      <td>169.405</td>\n",
       "      <td>169.83</td>\n",
       "      <td>72755895</td>\n",
       "    </tr>\n",
       "    <tr>\n",
       "      <th>2022-01-19 00:00:00-05:00</th>\n",
       "      <td>169.980</td>\n",
       "      <td>171.08</td>\n",
       "      <td>165.940</td>\n",
       "      <td>166.21</td>\n",
       "      <td>80743311</td>\n",
       "    </tr>\n",
       "    <tr>\n",
       "      <th>2022-01-20 00:00:00-05:00</th>\n",
       "      <td>166.980</td>\n",
       "      <td>169.68</td>\n",
       "      <td>164.180</td>\n",
       "      <td>164.52</td>\n",
       "      <td>77228033</td>\n",
       "    </tr>\n",
       "    <tr>\n",
       "      <th>2022-01-21 00:00:00-05:00</th>\n",
       "      <td>164.415</td>\n",
       "      <td>166.33</td>\n",
       "      <td>162.300</td>\n",
       "      <td>162.35</td>\n",
       "      <td>107284910</td>\n",
       "    </tr>\n",
       "  </tbody>\n",
       "</table>\n",
       "<p>100 rows × 5 columns</p>\n",
       "</div>"
      ],
      "text/plain": [
       "                              AAPL                                    \n",
       "                              open    high      low   close     volume\n",
       "time                                                                  \n",
       "2021-08-31 00:00:00-04:00  152.680  152.80  151.290  151.83   65181250\n",
       "2021-09-01 00:00:00-04:00  152.800  154.98  152.340  152.54   72982461\n",
       "2021-09-02 00:00:00-04:00  153.850  154.72  152.400  153.71   64119121\n",
       "2021-09-03 00:00:00-04:00  153.750  154.63  153.090  154.31   51476040\n",
       "2021-09-07 00:00:00-04:00  155.000  157.26  154.390  156.70   74486147\n",
       "...                            ...     ...      ...     ...        ...\n",
       "2022-01-14 00:00:00-05:00  171.340  173.78  171.090  173.05   68538760\n",
       "2022-01-18 00:00:00-05:00  171.500  172.54  169.405  169.83   72755895\n",
       "2022-01-19 00:00:00-05:00  169.980  171.08  165.940  166.21   80743311\n",
       "2022-01-20 00:00:00-05:00  166.980  169.68  164.180  164.52   77228033\n",
       "2022-01-21 00:00:00-05:00  164.415  166.33  162.300  162.35  107284910\n",
       "\n",
       "[100 rows x 5 columns]"
      ]
     },
     "execution_count": 26,
     "metadata": {},
     "output_type": "execute_result"
    }
   ],
   "source": [
    "# Use the Alpaca get_barset function to get current closing prices the portfolio\n",
    "# Be sure to set the `df` property after the function to format the response object as a DataFrame\n",
    "df_portfolio = alpaca.get_barset(\n",
    "    tickers,\n",
    "    timeframe,\n",
    "    start=start_date,\n",
    "    end=end_date\n",
    ").df\n",
    "\n",
    "# Review the first and last 5 rows of the Alpaca DataFrame\n",
    "df_portfolio\n"
   ]
  },
  {
   "cell_type": "code",
   "execution_count": 37,
   "id": "ba38e376-9319-4f8e-b783-8b199b3ed564",
   "metadata": {},
   "outputs": [],
   "source": [
    "request_url = 'https://data.alpaca.markets/v1beta1/crypto/ETHUSD/bars?exchanges=CBSE&APCA-API-KEY-ID='+alpaca_api_key+'&APCA-API-SECRET-KEY='+alpaca_secret_key"
   ]
  },
  {
   "cell_type": "code",
   "execution_count": 40,
   "id": "5ef9bbef-3840-4a90-aa77-30a561164148",
   "metadata": {},
   "outputs": [
    {
     "data": {
      "text/plain": [
       "'PKRRZU02BBLADTM9NDFP'"
      ]
     },
     "execution_count": 40,
     "metadata": {},
     "output_type": "execute_result"
    }
   ],
   "source": [
    "alpaca_api_key"
   ]
  },
  {
   "cell_type": "code",
   "execution_count": 38,
   "id": "09fb0e48-6862-414f-90fb-2d354a62a558",
   "metadata": {},
   "outputs": [],
   "source": [
    "# Execute the API call to Alpaca Crypto API using requests.get\n",
    "response = requests.get(request_url)"
   ]
  },
  {
   "cell_type": "code",
   "execution_count": 39,
   "id": "47776737-ac14-428f-be5c-f615c2a235fe",
   "metadata": {},
   "outputs": [
    {
     "data": {
      "text/plain": [
       "<Response [403]>"
      ]
     },
     "execution_count": 39,
     "metadata": {},
     "output_type": "execute_result"
    }
   ],
   "source": [
    "response"
   ]
  },
  {
   "cell_type": "code",
   "execution_count": null,
   "id": "db1edc30-9680-4d89-a386-d01738aaa0d1",
   "metadata": {},
   "outputs": [],
   "source": [
    "# Create an empty DataFrame for closing prices\n",
    "closing_prices_df = pd.DataFrame()\n",
    "\n",
    "# Get the closing prices of FB and TWTR\n",
    "closing_prices_df[\"FB\"] = df_portfolio[\"FB\"][\"close\"]\n",
    "closing_prices_df[\"TWTR\"] = df_portfolio[\"TWTR\"][\"close\"]\n",
    "\n",
    "# Drop the time component of the date\n",
    "closing_prices_df.index = closing_prices_df.index.date\n",
    "\n",
    "# Display sample data\n",
    "closing_prices_df.head(10)"
   ]
  },
  {
   "cell_type": "markdown",
   "id": "e315d8da-3ba5-49cd-98bb-8a1c1c054220",
   "metadata": {},
   "source": [
    "## Attempt to use CoinGecko for crypto price history API"
   ]
  },
  {
   "cell_type": "code",
   "execution_count": 41,
   "id": "c14980a2-e85f-45ee-b13c-afcc0abadab4",
   "metadata": {},
   "outputs": [],
   "source": [
    "from pycoingecko import CoinGeckoAPI\n",
    "cg = CoinGeckoAPI()"
   ]
  },
  {
   "cell_type": "code",
   "execution_count": 42,
   "id": "92cb7df0-d078-4edf-8a89-6ea53aabfd68",
   "metadata": {},
   "outputs": [
    {
     "data": {
      "text/plain": [
       "{'bitcoin': {'usd': 35359}}"
      ]
     },
     "execution_count": 42,
     "metadata": {},
     "output_type": "execute_result"
    }
   ],
   "source": [
    "cg.get_price(ids='bitcoin', vs_currencies='usd')"
   ]
  },
  {
   "cell_type": "code",
   "execution_count": 52,
   "id": "f47acdd2-d1f5-48cc-a85e-c5506731a189",
   "metadata": {},
   "outputs": [],
   "source": [
    "results = cg.get_coin_market_chart_range_by_id(id='bitcoin', vs_currency='usd', from_timestamp=1548294012, to_timestamp=1642988412)"
   ]
  },
  {
   "cell_type": "code",
   "execution_count": 53,
   "id": "d8028875-ec48-4e70-8dc0-041e617f2dc2",
   "metadata": {},
   "outputs": [],
   "source": [
    "df = pd.DataFrame(results)"
   ]
  },
  {
   "cell_type": "code",
   "execution_count": 54,
   "id": "b1cfabd7-d319-4d92-8fc2-8c0485e1d389",
   "metadata": {},
   "outputs": [
    {
     "data": {
      "text/html": [
       "<div>\n",
       "<style scoped>\n",
       "    .dataframe tbody tr th:only-of-type {\n",
       "        vertical-align: middle;\n",
       "    }\n",
       "\n",
       "    .dataframe tbody tr th {\n",
       "        vertical-align: top;\n",
       "    }\n",
       "\n",
       "    .dataframe thead th {\n",
       "        text-align: right;\n",
       "    }\n",
       "</style>\n",
       "<table border=\"1\" class=\"dataframe\">\n",
       "  <thead>\n",
       "    <tr style=\"text-align: right;\">\n",
       "      <th></th>\n",
       "      <th>prices</th>\n",
       "      <th>market_caps</th>\n",
       "      <th>total_volumes</th>\n",
       "    </tr>\n",
       "  </thead>\n",
       "  <tbody>\n",
       "    <tr>\n",
       "      <th>0</th>\n",
       "      <td>[1548374400000, 3565.6420046170365]</td>\n",
       "      <td>[1548374400000, 62397665388.19675]</td>\n",
       "      <td>[1548374400000, 2514079887.672157]</td>\n",
       "    </tr>\n",
       "    <tr>\n",
       "      <th>1</th>\n",
       "      <td>[1548460800000, 3564.822417111422]</td>\n",
       "      <td>[1548460800000, 62386316357.47355]</td>\n",
       "      <td>[1548460800000, 2582590473.407218]</td>\n",
       "    </tr>\n",
       "    <tr>\n",
       "      <th>2</th>\n",
       "      <td>[1548547200000, 3563.614563419144]</td>\n",
       "      <td>[1548547200000, 62374968460.904976]</td>\n",
       "      <td>[1548547200000, 2548165746.089901]</td>\n",
       "    </tr>\n",
       "    <tr>\n",
       "      <th>3</th>\n",
       "      <td>[1548633600000, 3553.121681129778]</td>\n",
       "      <td>[1548633600000, 62192208387.693]</td>\n",
       "      <td>[1548633600000, 2882787006.773549]</td>\n",
       "    </tr>\n",
       "    <tr>\n",
       "      <th>4</th>\n",
       "      <td>[1548720000000, 3432.215668301249]</td>\n",
       "      <td>[1548720000000, 60087154448.40433]</td>\n",
       "      <td>[1548720000000, 3445780457.599724]</td>\n",
       "    </tr>\n",
       "    <tr>\n",
       "      <th>...</th>\n",
       "      <td>...</td>\n",
       "      <td>...</td>\n",
       "      <td>...</td>\n",
       "    </tr>\n",
       "    <tr>\n",
       "      <th>1090</th>\n",
       "      <td>[1642550400000, 42395.45879157343]</td>\n",
       "      <td>[1642550400000, 803962100417.9756]</td>\n",
       "      <td>[1642550400000, 18897950050.285973]</td>\n",
       "    </tr>\n",
       "    <tr>\n",
       "      <th>1091</th>\n",
       "      <td>[1642636800000, 41749.55143098559]</td>\n",
       "      <td>[1642636800000, 790507925308.7825]</td>\n",
       "      <td>[1642636800000, 19626113309.554142]</td>\n",
       "    </tr>\n",
       "    <tr>\n",
       "      <th>1092</th>\n",
       "      <td>[1642723200000, 40707.6824143097]</td>\n",
       "      <td>[1642723200000, 774235809673.4731]</td>\n",
       "      <td>[1642723200000, 20930163211.171124]</td>\n",
       "    </tr>\n",
       "    <tr>\n",
       "      <th>1093</th>\n",
       "      <td>[1642809600000, 36508.799789830824]</td>\n",
       "      <td>[1642809600000, 692855029162.9379]</td>\n",
       "      <td>[1642809600000, 38296960033.31628]</td>\n",
       "    </tr>\n",
       "    <tr>\n",
       "      <th>1094</th>\n",
       "      <td>[1642896000000, 35180.435462830384]</td>\n",
       "      <td>[1642896000000, 666220701468.4846]</td>\n",
       "      <td>[1642896000000, 35517336417.257744]</td>\n",
       "    </tr>\n",
       "  </tbody>\n",
       "</table>\n",
       "<p>1095 rows × 3 columns</p>\n",
       "</div>"
      ],
      "text/plain": [
       "                                   prices  \\\n",
       "0     [1548374400000, 3565.6420046170365]   \n",
       "1      [1548460800000, 3564.822417111422]   \n",
       "2      [1548547200000, 3563.614563419144]   \n",
       "3      [1548633600000, 3553.121681129778]   \n",
       "4      [1548720000000, 3432.215668301249]   \n",
       "...                                   ...   \n",
       "1090   [1642550400000, 42395.45879157343]   \n",
       "1091   [1642636800000, 41749.55143098559]   \n",
       "1092    [1642723200000, 40707.6824143097]   \n",
       "1093  [1642809600000, 36508.799789830824]   \n",
       "1094  [1642896000000, 35180.435462830384]   \n",
       "\n",
       "                              market_caps                        total_volumes  \n",
       "0      [1548374400000, 62397665388.19675]   [1548374400000, 2514079887.672157]  \n",
       "1      [1548460800000, 62386316357.47355]   [1548460800000, 2582590473.407218]  \n",
       "2     [1548547200000, 62374968460.904976]   [1548547200000, 2548165746.089901]  \n",
       "3        [1548633600000, 62192208387.693]   [1548633600000, 2882787006.773549]  \n",
       "4      [1548720000000, 60087154448.40433]   [1548720000000, 3445780457.599724]  \n",
       "...                                   ...                                  ...  \n",
       "1090   [1642550400000, 803962100417.9756]  [1642550400000, 18897950050.285973]  \n",
       "1091   [1642636800000, 790507925308.7825]  [1642636800000, 19626113309.554142]  \n",
       "1092   [1642723200000, 774235809673.4731]  [1642723200000, 20930163211.171124]  \n",
       "1093   [1642809600000, 692855029162.9379]   [1642809600000, 38296960033.31628]  \n",
       "1094   [1642896000000, 666220701468.4846]  [1642896000000, 35517336417.257744]  \n",
       "\n",
       "[1095 rows x 3 columns]"
      ]
     },
     "execution_count": 54,
     "metadata": {},
     "output_type": "execute_result"
    }
   ],
   "source": [
    "df"
   ]
  },
  {
   "cell_type": "code",
   "execution_count": null,
   "id": "babc1e94-12c6-4642-aa82-11bc83f026aa",
   "metadata": {},
   "outputs": [],
   "source": []
  }
 ],
 "metadata": {
  "kernelspec": {
   "display_name": "dev",
   "language": "python",
   "name": "dev"
  },
  "language_info": {
   "codemirror_mode": {
    "name": "ipython",
    "version": 3
   },
   "file_extension": ".py",
   "mimetype": "text/x-python",
   "name": "python",
   "nbconvert_exporter": "python",
   "pygments_lexer": "ipython3",
   "version": "3.7.10"
  }
 },
 "nbformat": 4,
 "nbformat_minor": 5
}
